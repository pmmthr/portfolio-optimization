{
 "cells": [
  {
   "cell_type": "code",
   "execution_count": 1,
   "id": "f97f0371",
   "metadata": {},
   "outputs": [],
   "source": [
    "import numpy as np\n",
    "import pandas as pd\n",
    "\n",
    "import matplotlib.pyplot as plt"
   ]
  },
  {
   "cell_type": "code",
   "execution_count": 3,
   "id": "baeb35dc",
   "metadata": {},
   "outputs": [],
   "source": [
    "data = pd.read_csv(path + \"\\stocks_data.csv\", index_col = \"Date\").iloc[1:]"
   ]
  },
  {
   "cell_type": "markdown",
   "id": "d92b7409",
   "metadata": {},
   "source": [
    "### Доходности акций"
   ]
  },
  {
   "cell_type": "code",
   "execution_count": 4,
   "id": "add27871",
   "metadata": {},
   "outputs": [],
   "source": [
    "df1 = (data - data.shift()).iloc[1:]\n",
    "df2 = (data.shift()).iloc[1:]\n",
    "all_returns = df1.div(df2)"
   ]
  },
  {
   "cell_type": "code",
   "execution_count": 5,
   "id": "5abaf3d5",
   "metadata": {},
   "outputs": [],
   "source": [
    "rj = all_returns.mean()"
   ]
  },
  {
   "cell_type": "markdown",
   "id": "3010a566",
   "metadata": {},
   "source": [
    "### Матрица ковариаций"
   ]
  },
  {
   "cell_type": "code",
   "execution_count": 6,
   "id": "371d1d03",
   "metadata": {},
   "outputs": [],
   "source": [
    "covars = all_returns.cov()"
   ]
  },
  {
   "cell_type": "code",
   "execution_count": 7,
   "id": "8e05e875",
   "metadata": {},
   "outputs": [],
   "source": [
    "N = data.shape[1]\n",
    "T = data.shape[0] - 1\n",
    "epsilon = -0.2\n",
    "delta = 0.15\n",
    "rc = 0.04\n",
    "h = np.zeros(N)\n",
    "h[[1,6,8,16]] = 0.02\n",
    "K = 17\n",
    "l = 0.7\n",
    "Tp = 0.5 #time period - данные за полгода"
   ]
  },
  {
   "cell_type": "markdown",
   "id": "b0639440",
   "metadata": {},
   "source": [
    "### Option pricing"
   ]
  },
  {
   "cell_type": "code",
   "execution_count": 8,
   "id": "74ce02ab",
   "metadata": {},
   "outputs": [],
   "source": [
    "strikeP = data.iloc[0] * np.exp(-rc * Tp)"
   ]
  },
  {
   "cell_type": "code",
   "execution_count": 9,
   "id": "42043a63",
   "metadata": {},
   "outputs": [],
   "source": [
    "Oput = np.exp(- rc * Tp) * np.max(np.transpose([strikeP - data.iloc[-1], np.zeros(N)]), axis = 1)\n",
    "Ocall = np.exp(- rc * Tp) * np.max(np.transpose([data.iloc[-1] - strikeP, np.zeros(N)]), axis = 1)\n",
    "O = Ocall + Oput"
   ]
  },
  {
   "cell_type": "code",
   "execution_count": 10,
   "id": "bf5a79a1",
   "metadata": {},
   "outputs": [],
   "source": [
    "Vput = np.max(np.transpose([strikeP - data.iloc[-1], np.zeros(N)]), axis = 1)\n",
    "Vcall = np.max(np.transpose([data.iloc[-1] - strikeP, np.zeros(N)]), axis = 1)"
   ]
  },
  {
   "cell_type": "code",
   "execution_count": 11,
   "id": "320495c9",
   "metadata": {},
   "outputs": [],
   "source": [
    "Rput = np.max(np.transpose([data.iloc[0] * np.exp(-rc * Tp) - data.iloc[-1], np.zeros(N)]), axis = 1)/data.iloc[0]\n",
    "Rcall = np.max(np.transpose([data.iloc[-1] - data.iloc[0] * np.exp(-rc * Tp), np.zeros(N)]), axis = 1)/data.iloc[0]"
   ]
  },
  {
   "cell_type": "code",
   "execution_count": 12,
   "id": "3bfd34a9",
   "metadata": {},
   "outputs": [],
   "source": [
    "def create_constr_options(N, T, rj, rc, returns, epsilon, delta, K):\n",
    "    constr1 =  np.concatenate(((returns - rj).values, np.identity(T), np.zeros((T, N)), np.zeros((T, N))), axis = 1)\n",
    "    constr2 =  np.concatenate((-(returns - rj).values, np.identity(T), np.zeros((T, N)), np.zeros((T,N))), axis = 1)\n",
    "    constr3 = np.concatenate((np.ones(N), np.zeros(T + N + N)))\n",
    "    constr4 = np.concatenate((np.zeros(N), np.zeros(T), np.zeros(N), np.ones(N)))\n",
    "    constr5 = np.concatenate((np.zeros((T, N)), np.identity(T), np.zeros((T, N)), np.zeros((T, N))), axis = 1)\n",
    "    constr6 = np.concatenate((np.diag(rj), np.zeros((N, T + N + N))), axis = 1)\n",
    "    constr7_1 = np.concatenate((np.identity(N), np.zeros((N, T)), np.zeros((N, N)), -epsilon * np.identity(N)), axis = 1)\n",
    "    constr7_2 = np.concatenate((np.identity(N), np.zeros((N, T)), np.zeros((N, N)), -delta * np.identity(N)), axis = 1)\n",
    "    constr8 = np.concatenate((np.identity(N), np.zeros((N, T)), np.identity(N), np.zeros((N, N))), axis = 1)\n",
    "    constr9 = np.concatenate((-1 * np.identity(N), np.zeros((N, T)), np.identity(N), np.zeros((N, N))), axis = 1)\n",
    "    constr10 = np.concatenate((np.zeros((N, N)), np.zeros((N, T)), np.identity(N), np.zeros((N, N))), axis = 1)\n",
    "    \n",
    "    \n",
    "    constr = np.concatenate((constr1, constr2, [constr3], [constr4], constr5, constr6, constr7_1, constr7_2, constr8, constr9, constr10))\n",
    "    \n",
    "    rhs1 = np.concatenate((np.zeros(T + T), [1, K], np.zeros(T), np.zeros(N), np.zeros(N + N), np.zeros(N + N + N)))\n",
    "    rhs2 = np.concatenate((np.ones(T + T), [0, 0], np.ones(T), np.ones(N), np.ones(N), np.full(N, -1), np.ones(N + N + N)))\n",
    "    rhs = np.array([rhs1, rhs2]).T\n",
    "    \n",
    "    return constr, rhs"
   ]
  },
  {
   "cell_type": "code",
   "execution_count": 13,
   "id": "eaee965f",
   "metadata": {},
   "outputs": [],
   "source": [
    "def create_obj(N, T, rj, rc, h, Rcall, Rput, O, l):\n",
    "    return np.concatenate((-(1 - l) * ((rj.values - rc*h) + (Rcall + Rput).values), np.full(T, l/T), (1 - l) * (O/ data.iloc[0]), np.zeros(N)))"
   ]
  },
  {
   "cell_type": "code",
   "execution_count": 14,
   "id": "f617e9b5",
   "metadata": {},
   "outputs": [],
   "source": [
    "import pyomo.environ as pyo\n",
    "\n",
    "model_o = pyo.AbstractModel()\n",
    "\n",
    "model_o.m = pyo.Param(within=pyo.NonNegativeIntegers) #количество ограничений\n",
    "model_o.n = pyo.Param(within=pyo.NonNegativeIntegers) #количество переменных всего \n",
    "model_o.nx = pyo.Param(within=pyo.NonNegativeIntegers) #количество обычных переменных\n",
    "model_o.nz = pyo.Param(within=pyo.NonNegativeIntegers) #количество бинарных переменных\n",
    "model_o.right = pyo.RangeSet(1, 2)\n",
    "\n",
    "model_o.I = pyo.RangeSet(1, model_o.m) #индексы ограничений\n",
    "model_o.J = pyo.RangeSet(1, model_o.n) #индексы переменных\n",
    "model_o.Jx = pyo.RangeSet(1, model_o.nx) #индексы обычных переменных\n",
    "model_o.Jz = pyo.RangeSet(1, model_o.nz) #индексы бинарных переменных\n",
    "\n",
    "model_o.Ax = pyo.Param(model_o.I, model_o.Jx) #объявляем матрицу ограничений для x\n",
    "model_o.Az = pyo.Param(model_o.I, model_o.Jz) #объявляем матрицу ограничений для z\n",
    "model_o.rhs = pyo.Param(model_o.I, model_o.right) #rhs\n",
    "model_o.c = pyo.Param(model_o.Jx)\n",
    "\n",
    "model_o.x = pyo.Var(model_o.Jx, domain = pyo.Reals)\n",
    "model_o.z = pyo.Var(model_o.Jz, domain = pyo.Binary)\n",
    "\n",
    "def obj_expression(m):\n",
    "    return pyo.summation(m.c, m.x)\n",
    "    #return l/T*sum(m.x[-T:]) - (1 - l) * np.dot((rj.values - rc*h), m.x[:N])\n",
    "\n",
    "model_o.OBJ = pyo.Objective(rule=obj_expression)\n",
    "\n",
    "def constraint_rule(m, i):\n",
    "    if m.rhs[i,2] == -1:\n",
    "        return sum(m.Ax[i,j] * m.x[j] for j in m.Jx) + sum(m.Az[i,j] * m.z[j] for j in m.Jz) <= m.rhs[i,1]\n",
    "    if m.rhs[i,2] == 0:\n",
    "        return sum(m.Ax[i,j] * m.x[j] for j in m.Jx) + sum(m.Az[i,j] * m.z[j] for j in m.Jz) == m.rhs[i,1]\n",
    "    if m.rhs[i,2] == 1:\n",
    "        return sum(m.Ax[i,j] * m.x[j] for j in m.Jx) + sum(m.Az[i,j] * m.z[j] for j in m.Jz) >=m.rhs[i,1]\n",
    "    \n",
    "model_o.constraints = pyo.Constraint(model_o.I, rule = constraint_rule)"
   ]
  },
  {
   "cell_type": "code",
   "execution_count": 15,
   "id": "cd892e1d",
   "metadata": {},
   "outputs": [],
   "source": [
    "def solve_o(m, n, nx, nz, c, A, rhs):\n",
    "    rules = {None:{\n",
    "        'm': {None: m},\n",
    "        'n': {None: n},\n",
    "        'nx': {None: nx},\n",
    "        'nz': {None: nz},\n",
    "        'Ax': {(i + 1, j + 1): A[i][j] for i in range(m) for j in range(nx)},\n",
    "        'Az': {(i + 1, j + 1): A[i][j + nx] for i in range(m) for j in range(nz)},\n",
    "        'rhs': {(i + 1, j + 1): rhs[i][j] for i in range(m) for j in range(2)},\n",
    "        'c': {i + 1: c[i] for i in range(nx)}\n",
    "        }}\n",
    "    ins = model_o.create_instance(rules)\n",
    "    opt = pyo.SolverFactory('glpk')\n",
    "    opt.solve(ins)\n",
    "    res = [pyo.value(ins.x[i]) for i in range(1, nx+1)]\n",
    "    bins = [pyo.value(ins.z[i]) for i in range(1, nz+1)]\n",
    "    return res, bins"
   ]
  },
  {
   "cell_type": "markdown",
   "id": "26d796ad",
   "metadata": {},
   "source": [
    "### Оптимизация"
   ]
  },
  {
   "cell_type": "code",
   "execution_count": 16,
   "id": "ba2f3611",
   "metadata": {},
   "outputs": [],
   "source": [
    "constr, rhs = create_constr_options(N, T, rj, rc, all_returns, -0.3, 0.3, 20)\n",
    "m = constr.shape[0]\n",
    "n = constr.shape[1]\n",
    "nz = N\n",
    "nx = n - nz"
   ]
  },
  {
   "cell_type": "code",
   "execution_count": 17,
   "id": "bef542e9",
   "metadata": {},
   "outputs": [],
   "source": [
    "c_options = create_obj(N, T, rj, rc, h, Rcall, Rput, O, 0.5)"
   ]
  },
  {
   "cell_type": "code",
   "execution_count": 20,
   "id": "3d8a3894",
   "metadata": {},
   "outputs": [],
   "source": [
    "res, bins = solve_o(m, n, nx, nz, c_options, constr, rhs)\n",
    "weights = res[:N]"
   ]
  },
  {
   "cell_type": "code",
   "execution_count": 96,
   "id": "85a0463b",
   "metadata": {},
   "outputs": [
    {
     "data": {
      "text/plain": [
       "0.005321705652927"
      ]
     },
     "execution_count": 96,
     "metadata": {},
     "output_type": "execute_result"
    }
   ],
   "source": [
    "option_return(Rput, Rcall, O, weights)"
   ]
  },
  {
   "cell_type": "markdown",
   "id": "0aac70c5",
   "metadata": {},
   "source": [
    "### Стандартное отклонение портфеля, в процентах:"
   ]
  },
  {
   "cell_type": "code",
   "execution_count": 22,
   "id": "9e12def0",
   "metadata": {},
   "outputs": [],
   "source": [
    "def stdev(weights, covars):\n",
    "    return np.sqrt(np.dot(np.dot(np.transpose(weights), covars), np.array(weights)))"
   ]
  },
  {
   "cell_type": "code",
   "execution_count": 23,
   "id": "78a5e986",
   "metadata": {},
   "outputs": [
    {
     "data": {
      "text/plain": [
       "0.010175262371944264"
      ]
     },
     "execution_count": 23,
     "metadata": {},
     "output_type": "execute_result"
    }
   ],
   "source": [
    "np.sqrt(np.dot(np.dot(np.transpose(weights), covars), np.array(weights)))"
   ]
  },
  {
   "cell_type": "markdown",
   "id": "55a9bfc5",
   "metadata": {},
   "source": [
    "### Доходность портфеля, в процентах:"
   ]
  },
  {
   "cell_type": "code",
   "execution_count": 24,
   "id": "d8c3e4b6",
   "metadata": {},
   "outputs": [],
   "source": [
    "def option_return(Rput, Rcall, O, weights):\n",
    "    return np.dot((Rcall + Rput).values, np.abs(weights)) - np.dot(O/data.iloc[0], np.abs(weights))"
   ]
  },
  {
   "cell_type": "code",
   "execution_count": 25,
   "id": "5d08d090",
   "metadata": {},
   "outputs": [
    {
     "data": {
      "text/plain": [
       "0.006157813651302579"
      ]
     },
     "execution_count": 25,
     "metadata": {},
     "output_type": "execute_result"
    }
   ],
   "source": [
    "option_return(Rput, Rcall, O, weights)"
   ]
  },
  {
   "cell_type": "markdown",
   "id": "0522b33d",
   "metadata": {},
   "source": [
    "# Сравнение алгоритмов"
   ]
  },
  {
   "cell_type": "markdown",
   "id": "374b8744",
   "metadata": {},
   "source": [
    "## Изменяя $\\lambda$"
   ]
  },
  {
   "cell_type": "code",
   "execution_count": 30,
   "id": "17a8ff0d",
   "metadata": {},
   "outputs": [],
   "source": [
    "lambdas = np.arange(0, 1.1, 0.1)\n",
    "K = 20\n",
    "l_o = []\n",
    "constr, rhs = create_constr_options(N, T, rj, rc, all_returns, -0.2, 0.15, K)\n",
    "m = constr.shape[0]\n",
    "n = constr.shape[1]\n",
    "nz = N\n",
    "nx = n - nz\n",
    "for l in lambdas:\n",
    "    c_options = create_obj(N, T, rj, rc, h, Rcall, Rput, O, l)\n",
    "    res, bins = solve_o(m, n, nx, nz, c_options, constr, rhs)\n",
    "    weights = res[:N]\n",
    "    l_o.append([K, l, option_return(Rput, Rcall, O, weights), stdev(weights, covars)])\n",
    "    \n",
    "    \n",
    "\n",
    "l_o = np.array(l_o)\n",
    "l_o = np.concatenate([[np.array( [1.70000000e+01, 0.00000000e+00,5.26386155e-03 , 1.72061690e-02])], l_o])"
   ]
  },
  {
   "cell_type": "code",
   "execution_count": 39,
   "id": "2f284a42",
   "metadata": {},
   "outputs": [
    {
     "data": {
      "image/png": "[encoded data removed]",
      "text/plain": [
       "<Figure size 432x288 with 1 Axes>"
      ]
     },
     "metadata": {
      "needs_background": "light"
     },
     "output_type": "display_data"
    }
   ],
   "source": [
    "plt.plot(l_wo[:, 3], l_wo[:, 2], label = 'without options')\n",
    "plt.plot(l_o[:, 3], l_o[:, 2], label = 'with options')\n",
    "plt.xlabel(\"Risk\")\n",
    "plt.ylabel(\"Return\")\n",
    "plt.title(\"Varying $\\lambda$ (0, 1, 0.1)\")\n",
    "plt.legend()\n",
    "plt.show()"
   ]
  },
  {
   "cell_type": "code",
   "execution_count": 32,
   "id": "63499ea2",
   "metadata": {},
   "outputs": [],
   "source": [
    "l_wo = np.array([[1.70000000e+01, 0.00000000e+00, 4.17086006e-03, 1.69299200e-02],\n",
    "       [1.70000000e+01, 1.00000000e-01, 4.16070518e-03, 1.39872580e-02],\n",
    "       [1.70000000e+01, 2.00000000e-01, 3.93112312e-03, 1.19961480e-02],\n",
    "       [1.70000000e+01, 3.00000000e-01, 3.81325529e-03, 1.12715812e-02],\n",
    "       [1.70000000e+01, 4.00000000e-01, 3.15842091e-03, 9.59326378e-03],\n",
    "       [1.70000000e+01, 5.00000000e-01, 2.22683065e-03, 8.31470704e-03],\n",
    "       [1.70000000e+01, 6.00000000e-01, 1.87843755e-03, 8.00699115e-03],\n",
    "       [1.70000000e+01, 7.00000000e-01, 1.72622445e-03, 7.96644970e-03],\n",
    "       [1.70000000e+01, 8.00000000e-01, 1.72566552e-03, 7.96741763e-03],\n",
    "       [1.70000000e+01, 9.00000000e-01, 1.64007315e-03, 7.92708417e-03],\n",
    "       [1.70000000e+01, 1.00000000e+00, 1.64007315e-03, 7.92708417e-03]])"
   ]
  },
  {
   "cell_type": "code",
   "execution_count": 37,
   "id": "88c93275",
   "metadata": {},
   "outputs": [],
   "source": [
    "l_o = np.array([[1.70000000e+01, 0.00000000e+00, 5.26386155e-03, 1.72061690e-02],\n",
    "       [2.00000000e+01, 0.00000000e+00, 5.26386155e-03, 1.08312882e-02],\n",
    "       [2.00000000e+01, 1.00000000e-01, 5.26386155e-03, 1.08312882e-02],\n",
    "       [2.00000000e+01, 2.00000000e-01, 5.10279785e-03, 8.90821361e-03],\n",
    "       [2.00000000e+01, 3.00000000e-01, 5.06694041e-03, 8.76361116e-03],\n",
    "       [2.00000000e+01, 4.00000000e-01, 5.01391751e-03, 8.64949919e-03],\n",
    "       [2.00000000e+01, 5.00000000e-01, 4.97641204e-03, 8.58365866e-03],\n",
    "       [2.00000000e+01, 6.00000000e-01, 4.83199574e-03, 8.40868793e-03],\n",
    "       [2.00000000e+01, 7.00000000e-01, 4.51200284e-03, 8.16013578e-03],\n",
    "       [2.00000000e+01, 8.00000000e-01, 4.32522965e-03, 8.03151356e-03],\n",
    "       [2.00000000e+01, 9.00000000e-01, 4.19989669e-03, 7.95949025e-03],\n",
    "       [2.00000000e+01, 1.00000000e+00, 4.33998844e-03, 7.92708417e-03]])"
   ]
  },
  {
   "cell_type": "code",
   "execution_count": 38,
   "id": "2f94052e",
   "metadata": {},
   "outputs": [],
   "source": [
    "(pd.concat([pd.DataFrame(l_wo), pd.DataFrame(l_o)], axis = 1)).to_excel(path + \"\\portfoliosMAD.xlsx\")"
   ]
  }
 ],
 "metadata": {
  "kernelspec": {
   "display_name": "Python 3 (ipykernel)",
   "language": "python",
   "name": "python3"
  },
  "language_info": {
   "codemirror_mode": {
    "name": "ipython",
    "version": 3
   },
   "file_extension": ".py",
   "mimetype": "text/x-python",
   "name": "python",
   "nbconvert_exporter": "python",
   "pygments_lexer": "ipython3",
   "version": "3.8.12"
  }
 },
 "nbformat": 4,
 "nbformat_minor": 5
}
