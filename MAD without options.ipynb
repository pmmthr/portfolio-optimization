{
 "cells": [
  {
   "cell_type": "code",
   "execution_count": 1,
   "id": "dea200d6",
   "metadata": {},
   "outputs": [],
   "source": [
    "import numpy as np\n",
    "import pandas as pd\n",
    "\n",
    "import matplotlib.pyplot as plt"
   ]
  },
  {
   "cell_type": "code",
   "execution_count": 62,
   "id": "baeb35dc",
   "metadata": {},
   "outputs": [],
   "source": [
    "data = pd.read_csv(path + \"\\stocks_data.csv\", index_col = \"Date\").iloc[1:]"
   ]
  },
  {
   "cell_type": "markdown",
   "id": "d92b7409",
   "metadata": {},
   "source": [
    "### Доходности акций"
   ]
  },
  {
   "cell_type": "code",
   "execution_count": 63,
   "id": "add27871",
   "metadata": {},
   "outputs": [],
   "source": [
    "df1 = (data - data.shift()).iloc[1:]\n",
    "df2 = (data.shift()).iloc[1:]\n",
    "all_returns = df1.div(df2)"
   ]
  },
  {
   "cell_type": "code",
   "execution_count": 64,
   "id": "5abaf3d5",
   "metadata": {},
   "outputs": [],
   "source": [
    "rj = all_returns.mean()"
   ]
  },
  {
   "cell_type": "code",
   "execution_count": 77,
   "id": "8d3b5837",
   "metadata": {},
   "outputs": [],
   "source": [
    "corr = df1.corr()\n",
    "warmcorr = (corr).style.background_gradient(cmap='coolwarm')"
   ]
  },
  {
   "cell_type": "markdown",
   "id": "3010a566",
   "metadata": {},
   "source": [
    "### Матрица ковариаций"
   ]
  },
  {
   "cell_type": "code",
   "execution_count": 79,
   "id": "371d1d03",
   "metadata": {},
   "outputs": [],
   "source": [
    "covars = all_returns.cov()"
   ]
  },
  {
   "cell_type": "code",
   "execution_count": 80,
   "id": "b2acc6c9",
   "metadata": {},
   "outputs": [],
   "source": [
    "N = data.shape[1]\n",
    "T = data.shape[0] - 1\n",
    "epsilon = -0.5\n",
    "delta = 0.3\n",
    "rc = 0.04\n",
    "h = np.zeros(N)\n",
    "h[[1,6,8,16]] = 0.02\n",
    "K = 20\n",
    "l = 0.5"
   ]
  },
  {
   "cell_type": "markdown",
   "id": "d00c5143",
   "metadata": {},
   "source": [
    "data - котировки 20 акций за полгода\\\n",
    "daily_returns - ежедневный доход\\\n",
    "markovitz - дисперсия, ст. отклонение и доход за полгода\\\n",
    "returns - доход в в момент времени t\\\n",
    "$r_j$ = $\\frac{1}{T}\\sum_{t=1}^{T}r_{tj}$"
   ]
  },
  {
   "cell_type": "code",
   "execution_count": 81,
   "id": "b6c2c140",
   "metadata": {},
   "outputs": [],
   "source": [
    "def create_constr(N, T, rj, rc, returns, epsilon, delta, K):\n",
    "    constr1 =  np.concatenate(((returns - rj).values, np.identity(T), np.zeros((T, N))), axis = 1)\n",
    "    constr2 =  np.concatenate((-(returns - rj).values, np.identity(T),  np.zeros((T,N))), axis = 1)\n",
    "    constr3 = np.concatenate((np.ones(N), np.zeros(T + N)))\n",
    "    constr4 = np.concatenate((np.zeros(N), np.zeros(T), np.ones(N)))\n",
    "    constr5 = np.concatenate((np.zeros((T, N)), np.identity(T), np.zeros((T, N))), axis = 1)\n",
    "    constr6 = np.concatenate((np.diag(rj), np.zeros((N, T + N))), axis = 1)\n",
    "    constr7_1 = np.concatenate((np.identity(N), np.zeros((N, T)), -epsilon * np.identity(N)), axis = 1)\n",
    "    constr7_2 = np.concatenate((np.identity(N), np.zeros((N, T)), -delta * np.identity(N)), axis = 1)\n",
    "    \n",
    "    constr = np.concatenate((constr1, constr2, [constr3], [constr4], constr5, constr6, constr7_1, constr7_2))\n",
    "    \n",
    "    rhs1 = np.concatenate((np.zeros(T + T), [1, K], np.zeros(T), np.zeros(N), np.zeros(N + N)))\n",
    "    rhs2 = np.concatenate((np.ones(T + T), [0, 0], np.ones(T), np.ones(N), np.ones(N), np.full(N, -1)))\n",
    "    rhs = np.array([rhs1, rhs2]).T\n",
    "    \n",
    "    return constr, rhs"
   ]
  },
  {
   "cell_type": "code",
   "execution_count": 82,
   "id": "ecbf7c28",
   "metadata": {},
   "outputs": [],
   "source": [
    "def create_obj(N, T, rj, rc, h, l):\n",
    "    return np.concatenate((-(1 - l) * (rj.values - rc*h), np.full(T, l/T), np.zeros(N)))"
   ]
  },
  {
   "cell_type": "code",
   "execution_count": 83,
   "id": "a28b80a9",
   "metadata": {},
   "outputs": [],
   "source": [
    "import pyomo.environ as pyo\n",
    "\n",
    "model = pyo.AbstractModel()\n",
    "\n",
    "model.m = pyo.Param(within=pyo.NonNegativeIntegers) #количество ограничений\n",
    "model.n = pyo.Param(within=pyo.NonNegativeIntegers) #количество переменных всего \n",
    "model.nx = pyo.Param(within=pyo.NonNegativeIntegers) #количество обычных переменных\n",
    "model.nz = pyo.Param(within=pyo.NonNegativeIntegers) #количество бинарных переменных\n",
    "model.right = pyo.RangeSet(1, 2)\n",
    "\n",
    "model.I = pyo.RangeSet(1, model.m) #индексы ограничений\n",
    "model.J = pyo.RangeSet(1, model.n) #индексы переменных\n",
    "model.Jx = pyo.RangeSet(1, model.nx) #индексы обычных переменных\n",
    "model.Jz = pyo.RangeSet(1, model.nz) #индексы бинарных переменных\n",
    "\n",
    "model.Ax = pyo.Param(model.I, model.Jx) #объявляем матрицу ограничений для x\n",
    "model.Az = pyo.Param(model.I, model.Jz) #объявляем матрицу ограничений для z\n",
    "model.rhs = pyo.Param(model.I, model.right) #rhs\n",
    "model.c = pyo.Param(model.Jx)\n",
    "\n",
    "model.x = pyo.Var(model.Jx, domain = pyo.Reals)\n",
    "model.z = pyo.Var(model.Jz, domain = pyo.Binary)\n",
    "\n",
    "def obj_expression(m):\n",
    "    return pyo.summation(m.c, m.x)\n",
    "    #return l/T*sum(m.x[-T:]) - (1 - l) * np.dot((rj.values - rc*h), m.x[:N])\n",
    "\n",
    "model.OBJ = pyo.Objective(rule=obj_expression)\n",
    "\n",
    "def constraint_rule(m, i):\n",
    "    if m.rhs[i,2] == -1:\n",
    "        return sum(m.Ax[i,j] * m.x[j] for j in m.Jx) + sum(m.Az[i,j] * m.z[j] for j in m.Jz) <= m.rhs[i,1]\n",
    "    if m.rhs[i,2] == 0:\n",
    "        return sum(m.Ax[i,j] * m.x[j] for j in m.Jx) + sum(m.Az[i,j] * m.z[j] for j in m.Jz) == m.rhs[i,1]\n",
    "    if m.rhs[i,2] == 1:\n",
    "        return sum(m.Ax[i,j] * m.x[j] for j in m.Jx) + sum(m.Az[i,j] * m.z[j] for j in m.Jz) >=m.rhs[i,1]\n",
    "    \n",
    "model.constraints = pyo.Constraint(model.I, rule = constraint_rule)"
   ]
  },
  {
   "cell_type": "code",
   "execution_count": 84,
   "id": "f8d63157",
   "metadata": {},
   "outputs": [],
   "source": [
    "def solve(m, n, nx, nz, c, A, rhs):\n",
    "    rules = {None:{\n",
    "        'm': {None: m},\n",
    "        'n': {None: n},\n",
    "        'nx': {None: nx},\n",
    "        'nz': {None: nz},\n",
    "        'Ax': {(i + 1, j + 1): A[i][j] for i in range(m) for j in range(nx)},\n",
    "        'Az': {(i + 1, j + 1): A[i][j + nx] for i in range(m) for j in range(nz)},\n",
    "        'rhs': {(i + 1, j + 1): rhs[i][j] for i in range(m) for j in range(2)},\n",
    "        'c': {i + 1: c[i] for i in range(nx)}\n",
    "        }}\n",
    "    ins = model.create_instance(rules)\n",
    "    opt = pyo.SolverFactory('glpk')\n",
    "    opt.solve(ins)\n",
    "    res = [pyo.value(ins.x[i]) for i in range(1, nx+1)]\n",
    "    bins = [pyo.value(ins.z[i]) for i in range(1, nz+1)]\n",
    "    return res, bins"
   ]
  },
  {
   "cell_type": "code",
   "execution_count": 85,
   "id": "d4e1b575",
   "metadata": {},
   "outputs": [],
   "source": [
    "constr, rhs = create_constr(N, T, rj, rc, all_returns, 0, delta, K)\n",
    "m = constr.shape[0]\n",
    "n = constr.shape[1]\n",
    "nz = N\n",
    "nx = n - nz"
   ]
  },
  {
   "cell_type": "code",
   "execution_count": 86,
   "id": "c627078d",
   "metadata": {},
   "outputs": [],
   "source": [
    "c = create_obj(N, T, rj, rc, h, l)"
   ]
  },
  {
   "cell_type": "code",
   "execution_count": 87,
   "id": "cdd66585",
   "metadata": {},
   "outputs": [],
   "source": [
    "res, bins = solve(m, n, nx, nz, c, constr, rhs)\n",
    "weights = res[:N]"
   ]
  },
  {
   "cell_type": "code",
   "execution_count": 88,
   "id": "55a0f2da",
   "metadata": {},
   "outputs": [
    {
     "data": {
      "text/plain": [
       "[-0.0,\n",
       " -0.0,\n",
       " 0.116302193330545,\n",
       " 0.162488030063287,\n",
       " 0.0959485365481388,\n",
       " 0.120766998177286,\n",
       " -0.0,\n",
       " -0.0,\n",
       " -0.0,\n",
       " 0.262945429855208,\n",
       " -0.0,\n",
       " -0.0,\n",
       " -0.0,\n",
       " -0.0,\n",
       " 0.0202177744017753,\n",
       " -0.0,\n",
       " 0.113674468583181,\n",
       " 0.0427987557404795,\n",
       " 0.0648578133000995,\n",
       " -0.0,\n",
       " -0.0]"
      ]
     },
     "execution_count": 88,
     "metadata": {},
     "output_type": "execute_result"
    }
   ],
   "source": [
    "weights"
   ]
  },
  {
   "cell_type": "markdown",
   "id": "0aac70c5",
   "metadata": {},
   "source": [
    "### Стандартное отклонение портфеля, в процентах:"
   ]
  },
  {
   "cell_type": "code",
   "execution_count": 89,
   "id": "6d7a4e43",
   "metadata": {},
   "outputs": [],
   "source": [
    "def stdev(weights, covars):\n",
    "    return np.sqrt(np.dot(np.dot(np.transpose(weights), covars), np.array(weights)))### Стандартное отклонение портфеля, в процентах:"
   ]
  },
  {
   "cell_type": "code",
   "execution_count": 90,
   "id": "3c31db5d",
   "metadata": {},
   "outputs": [
    {
     "data": {
      "text/plain": [
       "0.007986593763676383"
      ]
     },
     "execution_count": 90,
     "metadata": {},
     "output_type": "execute_result"
    }
   ],
   "source": [
    "stdev(weights, covars)"
   ]
  },
  {
   "cell_type": "markdown",
   "id": "55a9bfc5",
   "metadata": {},
   "source": [
    "### Доходность портфеля, в процентах:"
   ]
  },
  {
   "cell_type": "code",
   "execution_count": 91,
   "id": "a11452f9",
   "metadata": {},
   "outputs": [
    {
     "data": {
      "text/plain": [
       "0.0015472225344901388"
      ]
     },
     "execution_count": 91,
     "metadata": {},
     "output_type": "execute_result"
    }
   ],
   "source": [
    "np.dot(rj, weights)"
   ]
  },
  {
   "cell_type": "code",
   "execution_count": 92,
   "id": "b5afae00",
   "metadata": {},
   "outputs": [],
   "source": [
    "lambdas = np.arange(0, 1.1, 0.1)\n",
    "K = 17\n",
    "l_wo = []\n",
    "constr, rhs = create_constr(N, T, rj, rc, all_returns, -0.2, 0.15, K)\n",
    "m = constr.shape[0]\n",
    "n = constr.shape[1]\n",
    "nz = N\n",
    "nx = n - nz\n",
    "for l in lambdas:\n",
    "    c = create_obj(N, T, rj, rc, h, l)\n",
    "    res, bins = solve(m, n, nx, nz, c, constr, rhs)\n",
    "    weights = res[:N]\n",
    "    l_wo.append([K, l, np.dot(rj, weights), stdev(weights, covars)])"
   ]
  },
  {
   "cell_type": "code",
   "execution_count": 93,
   "id": "5e06b5e8",
   "metadata": {},
   "outputs": [],
   "source": [
    "l_wo = np.array(l_wo)"
   ]
  },
  {
   "cell_type": "code",
   "execution_count": 2,
   "id": "9601a830",
   "metadata": {},
   "outputs": [],
   "source": [
    "l_wo = np.array([[1.70000000e+01, 0.00000000e+00, 4.12779630e-03, 1.72061690e-02],\n",
    "       [1.70000000e+01, 1.00000000e-01, 4.08849302e-03, 1.46521447e-02],\n",
    "       [1.70000000e+01, 2.00000000e-01, 3.87088244e-03, 1.27172648e-02],\n",
    "       [1.70000000e+01, 3.00000000e-01, 3.73708502e-03, 1.18213712e-02],\n",
    "       [1.70000000e+01, 4.00000000e-01, 3.07469826e-03, 1.01343739e-02],\n",
    "       [1.70000000e+01, 5.00000000e-01, 2.02659884e-03, 8.50267891e-03],\n",
    "       [1.70000000e+01, 6.00000000e-01, 1.86648007e-03, 8.38774875e-03],\n",
    "       [1.70000000e+01, 7.00000000e-01, 1.75033256e-03, 8.29245015e-03],\n",
    "       [1.70000000e+01, 8.00000000e-01, 1.62284841e-03, 8.24450149e-03],\n",
    "       [1.70000000e+01, 9.00000000e-01, 1.52898327e-03, 8.15312502e-03],\n",
    "       [1.70000000e+01, 1.00000000e+00, 1.52343129e-03, 8.14846097e-03]])"
   ]
  },
  {
   "cell_type": "code",
   "execution_count": 94,
   "id": "3b449df4",
   "metadata": {},
   "outputs": [
    {
     "data": {
      "image/png": "[encoded data removed]",
      "text/plain": [
       "<Figure size 432x288 with 1 Axes>"
      ]
     },
     "metadata": {
      "needs_background": "light"
     },
     "output_type": "display_data"
    }
   ],
   "source": [
    "plt.plot(l_wo[:, 3], l_wo[:, 2], label = 'without options')\n",
    "plt.xlabel(\"Risk\")\n",
    "plt.ylabel(\"Return\")\n",
    "plt.legend()\n",
    "plt.title(\"MAD varying $\\lambda$\")\n",
    "plt.show()"
   ]
  },
  {
   "cell_type": "code",
   "execution_count": 96,
   "id": "27e09cbf",
   "metadata": {},
   "outputs": [
    {
     "data": {
      "image/png": "[encoded data removed]",
      "text/plain": [
       "<Figure size 432x288 with 1 Axes>"
      ]
     },
     "metadata": {
      "needs_background": "light"
     },
     "output_type": "display_data"
    }
   ],
   "source": [
    "plt.plot(l_wo[:, 3], l_wo[:, 2], label = 'without options')\n",
    "plt.plot(l_o[:, 3], l_o[:, 2], label = 'with options')\n",
    "plt.xlabel(\"Risk\")\n",
    "plt.ylabel(\"Return\")\n",
    "plt.legend()\n",
    "plt.title(\"MAD varying $\\lambda$\")\n",
    "plt.show()"
   ]
  },
  {
   "cell_type": "code",
   "execution_count": 95,
   "id": "bd5ec895",
   "metadata": {},
   "outputs": [],
   "source": [
    "l_o = np.array([[1.70000000e+01, 0.00000000e+00, 6.60875298e-03, 1.11153278e-02],\n",
    "       [1.70000000e+01, 1.00000000e-01, 6.58798652e-03, 1.08463169e-02],\n",
    "       [1.70000000e+01, 2.00000000e-01, 6.25951812e-03, 8.86480687e-03],\n",
    "       [1.70000000e+01, 3.00000000e-01, 6.20288121e-03, 8.71557129e-03],\n",
    "       [1.70000000e+01, 4.00000000e-01, 6.21363500e-03, 8.64525252e-03],\n",
    "       [1.70000000e+01, 5.00000000e-01, 6.18349544e-03, 8.62102896e-03],\n",
    "       [1.70000000e+01, 6.00000000e-01, 6.20528586e-03, 8.62438145e-03],\n",
    "       [1.70000000e+01, 7.00000000e-01, 5.94847436e-03, 8.41873540e-03],\n",
    "       [1.70000000e+01, 8.00000000e-01, 5.72442361e-03, 8.30973652e-03],\n",
    "       [1.70000000e+01, 9.00000000e-01, 5.43578357e-03, 8.19985634e-03],\n",
    "       [1.70000000e+01, 1.00000000e+00, 5.67566935e-03, 8.14846097e-03]])\n",
    "l_o = np.concatenate([[np.array([17, 1,  6.60875298e-03, 1.72061690e-02])], l_o])"
   ]
  },
  {
   "cell_type": "code",
   "execution_count": null,
   "id": "89c2861e",
   "metadata": {},
   "outputs": [],
   "source": []
  }
 ],
 "metadata": {
  "kernelspec": {
   "display_name": "Python 3 (ipykernel)",
   "language": "python",
   "name": "python3"
  },
  "language_info": {
   "codemirror_mode": {
    "name": "ipython",
    "version": 3
   },
   "file_extension": ".py",
   "mimetype": "text/x-python",
   "name": "python",
   "nbconvert_exporter": "python",
   "pygments_lexer": "ipython3",
   "version": "3.8.12"
  }
 },
 "nbformat": 4,
 "nbformat_minor": 5
}
